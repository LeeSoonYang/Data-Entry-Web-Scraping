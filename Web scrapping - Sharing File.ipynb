{
 "cells": [
  {
   "cell_type": "code",
   "execution_count": 1,
   "id": "36ec9078",
   "metadata": {},
   "outputs": [
    {
     "name": "stdout",
     "output_type": "stream",
     "text": [
      "<class 'str'>\n",
      "<class 'str'>\n"
     ]
    }
   ],
   "source": [
    "# Import packages\n",
    "import requests\n",
    "from bs4 import BeautifulSoup\n",
    "\n",
    "# Specify url: url\n",
    "url = 'https://www.marktechpost.com/2022/06/21/ntu-researchers-propose-noah-neural-prompt-search-for-large-vision-models/'\n",
    "# Package the request, send the request and catch the response: r\n",
    "r = requests.get(url)\n",
    "\n",
    "# Extract the response as html: html_doc\n",
    "html_doc = r.text\n",
    "\n",
    "# Create a BeautifulSoup object from the HTML: soup\n",
    "soup = BeautifulSoup(html_doc)\n",
    "\n",
    "# Get Guido's text: guido_text\n",
    "guido_text = soup.get_text()\n",
    "\n",
    "# Print Guido's text to the shell\n",
    "print(type(guido_text))\n",
    "\n",
    "# Get the title of Guido's webpage: guido_title\n",
    "guido_title = soup.title.get_text()\n",
    "\n",
    "print(type(guido_title))"
   ]
  },
  {
   "cell_type": "code",
   "execution_count": 2,
   "id": "86684b65",
   "metadata": {},
   "outputs": [
    {
     "data": {
      "text/plain": [
       "\"ntu researchers propose 'noah': neural prompt search for large vision models - marktechpost\""
      ]
     },
     "execution_count": 2,
     "metadata": {},
     "output_type": "execute_result"
    }
   ],
   "source": [
    "title = guido_title.lower() \n",
    "title"
   ]
  },
  {
   "cell_type": "code",
   "execution_count": 3,
   "id": "cd7a2f2e",
   "metadata": {},
   "outputs": [],
   "source": [
    "# import pandas library as pd\n",
    "import pandas as pd\n",
    " \n",
    "# create an Empty DataFrame object\n",
    "df = pd.DataFrame()"
   ]
  },
  {
   "cell_type": "code",
   "execution_count": 4,
   "id": "7aede05f",
   "metadata": {},
   "outputs": [],
   "source": [
    "text = guido_text.lower()"
   ]
  },
  {
   "cell_type": "code",
   "execution_count": 5,
   "id": "75523f35",
   "metadata": {},
   "outputs": [],
   "source": [
    "list_ = ['X', 'Y']\n",
    "if any(word in title for word in list_):\n",
    "    df['Headline'] = ['1']\n",
    "else:\n",
    "    df['Headline'] = ['2'] "
   ]
  },
  {
   "cell_type": "code",
   "execution_count": 6,
   "id": "dc89c960",
   "metadata": {},
   "outputs": [],
   "source": [
    "p_tags = soup.find_all('p')\n",
    "three_para = p_tags[0:3]"
   ]
  },
  {
   "cell_type": "code",
   "execution_count": 7,
   "id": "a1380a22",
   "metadata": {},
   "outputs": [],
   "source": [
    "mystring = ' '.join(map(str,three_para))\n",
    "lower_three = mystring.lower()"
   ]
  },
  {
   "cell_type": "code",
   "execution_count": 8,
   "id": "b2a6e224",
   "metadata": {},
   "outputs": [],
   "source": [
    "if any(word in lower_three for word in list_):\n",
    "    df['Name Mentioned'] = ['1']\n",
    "else:\n",
    "    df['Name Mentioned'] = ['2'] "
   ]
  },
  {
   "cell_type": "code",
   "execution_count": 9,
   "id": "ca70a22d",
   "metadata": {},
   "outputs": [],
   "source": [
    "if 'A' in text and 'B' in text:\n",
    "    df['Mention'] = ['6']\n",
    "    \n",
    "elif 'A' in text and 'C' in text:\n",
    "    df['Mention'] = ['7']\n",
    "    \n",
    "elif 'A' in text and 'D' in text:\n",
    "    df['Mention'] = ['8']\n",
    "    \n",
    "elif 'A' in text:\n",
    "    df['Mention'] = ['1']\n",
    "    \n",
    "elif 'B' in text:\n",
    "    df['Mention'] = ['2']\n",
    "    \n",
    "elif 'C' in text:\n",
    "    df['Mention'] = ['3']\n",
    "    \n",
    "elif 'D' in text:\n",
    "    df['Mention'] = ['4']\n",
    "    \n",
    "else:\n",
    "    df['Mention'] = ['5']"
   ]
  },
  {
   "cell_type": "code",
   "execution_count": 10,
   "id": "d2edc779",
   "metadata": {},
   "outputs": [
    {
     "data": {
      "text/html": [
       "<div>\n",
       "<style scoped>\n",
       "    .dataframe tbody tr th:only-of-type {\n",
       "        vertical-align: middle;\n",
       "    }\n",
       "\n",
       "    .dataframe tbody tr th {\n",
       "        vertical-align: top;\n",
       "    }\n",
       "\n",
       "    .dataframe thead th {\n",
       "        text-align: right;\n",
       "    }\n",
       "</style>\n",
       "<table border=\"1\" class=\"dataframe\">\n",
       "  <thead>\n",
       "    <tr style=\"text-align: right;\">\n",
       "      <th></th>\n",
       "      <th>Headline</th>\n",
       "      <th>Name Mentioned</th>\n",
       "      <th>Mention</th>\n",
       "      <th>Story_Headline</th>\n",
       "      <th>Hyperlink</th>\n",
       "    </tr>\n",
       "  </thead>\n",
       "  <tbody>\n",
       "    <tr>\n",
       "      <th>0</th>\n",
       "      <td>2</td>\n",
       "      <td>2</td>\n",
       "      <td>5</td>\n",
       "      <td>\\n\\nNTU Researchers Propose 'NOAH': Neural Pr...</td>\n",
       "      <td>https://www.marktechpost.com/2022/06/21/ntu-re...</td>\n",
       "    </tr>\n",
       "  </tbody>\n",
       "</table>\n",
       "</div>"
      ],
      "text/plain": [
       "  Headline Name Mentioned Mention  \\\n",
       "0        2              2       5   \n",
       "\n",
       "                                      Story_Headline  \\\n",
       "0   \\n\\nNTU Researchers Propose 'NOAH': Neural Pr...   \n",
       "\n",
       "                                           Hyperlink  \n",
       "0  https://www.marktechpost.com/2022/06/21/ntu-re...  "
      ]
     },
     "execution_count": 10,
     "metadata": {},
     "output_type": "execute_result"
    }
   ],
   "source": [
    "df['Story_Headline'] = guido_text\n",
    "df['Hyperlink'] = url\n",
    "df"
   ]
  },
  {
   "cell_type": "code",
   "execution_count": null,
   "id": "18ba51f1",
   "metadata": {},
   "outputs": [],
   "source": []
  },
  {
   "cell_type": "code",
   "execution_count": null,
   "id": "8b98b993",
   "metadata": {},
   "outputs": [],
   "source": []
  },
  {
   "cell_type": "code",
   "execution_count": null,
   "id": "17842e62",
   "metadata": {},
   "outputs": [],
   "source": []
  },
  {
   "cell_type": "code",
   "execution_count": null,
   "id": "76733b23",
   "metadata": {},
   "outputs": [],
   "source": []
  }
 ],
 "metadata": {
  "kernelspec": {
   "display_name": "Python 3 (ipykernel)",
   "language": "python",
   "name": "python3"
  },
  "language_info": {
   "codemirror_mode": {
    "name": "ipython",
    "version": 3
   },
   "file_extension": ".py",
   "mimetype": "text/x-python",
   "name": "python",
   "nbconvert_exporter": "python",
   "pygments_lexer": "ipython3",
   "version": "3.9.7"
  }
 },
 "nbformat": 4,
 "nbformat_minor": 5
}
