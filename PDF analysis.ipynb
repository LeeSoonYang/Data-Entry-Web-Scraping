{
 "cells": [
  {
   "cell_type": "code",
   "execution_count": 1,
   "id": "8910301e",
   "metadata": {},
   "outputs": [
    {
     "name": "stdout",
     "output_type": "stream",
     "text": [
      "                                           paragraph\n",
      "3  Researchers in Singapore have discovered a les...\n",
      "4  perovskite solar cells in the lab that does no...\n",
      "5  Scientists at Nanyang Technological University...\n",
      "6  The result of the experiment was a one- inch -...\n",
      "7  Inspections showed that the cells were effecti...\n"
     ]
    }
   ],
   "source": [
    "import PyPDF2\n",
    "import pandas as pd\n",
    "import io\n",
    "import requests\n",
    "\n",
    "# Download the PDF file in HTML format\n",
    "url = 'https://www3.ntu.edu.sg/corpcomms2/documents/2023/03_Mar/Solar.in_010323_stabilizing%20perovskite%20solar%20cells.pdf'\n",
    "\n",
    "if 'pdf' in url:\n",
    "    response = requests.get(url)\n",
    "    pdf_file = io.BytesIO(response.content)\n",
    "\n",
    "    # Read the PDF file\n",
    "    pdf_reader = PyPDF2.PdfFileReader(pdf_file)\n",
    "\n",
    "    # Get the number of pages in the PDF file\n",
    "    num_pages = pdf_reader.numPages\n",
    "\n",
    "    # Create an empty list to store the paragraphs\n",
    "    paragraphs = []\n",
    "\n",
    "    # Iterate through each page and extract the text\n",
    "    for i in range(num_pages):\n",
    "        page = pdf_reader.getPage(i)\n",
    "        text = page.extractText()\n",
    "        # Split the text into paragraphs\n",
    "        text_paragraphs = text.split('\\n')\n",
    "        # Remove empty paragraphs\n",
    "        text_paragraphs = [p for p in text_paragraphs if p.strip()]\n",
    "        paragraphs.extend(text_paragraphs)\n",
    "\n",
    "    # Create a pandas dataframe with the extracted paragraphs\n",
    "    pdf = pd.DataFrame({'paragraph': paragraphs})\n",
    "    text = pdf\n",
    "    title = pdf[0:3]\n",
    "    lower_three = pdf[3:8]\n",
    "else:\n",
    "    pass\n",
    "\n",
    "print(lower_three)\n",
    "# create an Empty DataFrame object\n",
    "df = pd.DataFrame()\n",
    "\n",
    "df['Story_Tone'] = '#'\n",
    "\n",
    "#code for headline\n",
    "list_ = ['ntu', 'nanyang technology university','南洋理工','NTU']\n",
    "if any(word in title for word in list_):\n",
    "    df['Headline'] = ['1']\n",
    "else:\n",
    "    df['Headline'] = ['2'] \n",
    "\n",
    "#code for school named in first three paragraph\n",
    "if any(word in lower_three for word in list_):\n",
    "    df['University_Name Mentioned'] = ['1']\n",
    "else:\n",
    "    df['University_Name Mentioned'] = ['2'] \n",
    "\n",
    "#Fill in empty columns\n",
    "df['Type_of_Story'] = '#'\n",
    "df['Story_Trigger'] = '#'\n",
    "df['NTU_News_Release'] = '#'\n",
    "\n",
    "#code to check for management names\n",
    "if 'subra suresh' in text and 'ling san' in text:\n",
    "    df['Mention_of_Senior_Management'] = ['6']\n",
    "\n",
    "elif 'subra suresh' in text and 'lam khin yong' in text:\n",
    "    df['Mention_of_Senior_Management'] = ['7']\n",
    "\n",
    "elif 'subra suresh' in text and 'tan aik na' in text:\n",
    "    df['Mention_of_Senior_Management'] = ['8']\n",
    "\n",
    "elif 'subra suresh' in text:\n",
    "    df['Mention_of_Senior_Management'] = ['1']\n",
    "\n",
    "elif 'ling san' in text:\n",
    "    df['Mention_of_Senior_Management'] = ['2']\n",
    "\n",
    "elif 'lam khin yong' in text:\n",
    "    df['Mention_of_Senior_Management'] = ['3']\n",
    "\n",
    "elif 'tan aik na' in text:\n",
    "    df['Mention_of_Senior_Management'] = ['4']\n",
    "\n",
    "else:\n",
    "    df['Mention_of_Senior_Management'] = ['5']\n",
    "\n",
    "#import excel file to retrieve media values\n",
    "#Change file name to update the list\n",
    "import pandas as pd\n",
    "file = '26-09 2019-2022 International Coding September 2022.xlsm'\n",
    "data = pd.ExcelFile(file)\n",
    "df1 = data.parse('Media Values')\n",
    "\n",
    "#convert dataframe to series\n",
    "df1_1=df1['Media_name1'].values.tolist()\n",
    "df1_2=df1['Media_name2'].values.tolist()\n",
    "df1_3=df1['Media_name3'].values.tolist()\n",
    "df1_4=df1['Media_name4'].values.tolist()\n",
    "df1_5=df1['STEM'].values.tolist()\n",
    "\n"
   ]
  },
  {
   "cell_type": "code",
   "execution_count": 2,
   "id": "a36605c1",
   "metadata": {},
   "outputs": [
    {
     "name": "stdout",
     "output_type": "stream",
     "text": [
      "  Story_Tone Headline University_Name Mentioned Type_of_Story Story_Trigger  \\\n",
      "0        NaN        2                         2             #             #   \n",
      "\n",
      "  NTU_News_Release Mention_of_Senior_Management  \n",
      "0                #                            5  \n"
     ]
    }
   ],
   "source": [
    "print(df)"
   ]
  },
  {
   "cell_type": "code",
   "execution_count": null,
   "id": "c73a26e3",
   "metadata": {},
   "outputs": [],
   "source": []
  }
 ],
 "metadata": {
  "kernelspec": {
   "display_name": "Python 3 (ipykernel)",
   "language": "python",
   "name": "python3"
  },
  "language_info": {
   "codemirror_mode": {
    "name": "ipython",
    "version": 3
   },
   "file_extension": ".py",
   "mimetype": "text/x-python",
   "name": "python",
   "nbconvert_exporter": "python",
   "pygments_lexer": "ipython3",
   "version": "3.9.7"
  }
 },
 "nbformat": 4,
 "nbformat_minor": 5
}
