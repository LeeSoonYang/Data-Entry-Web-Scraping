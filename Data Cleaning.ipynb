{
 "cells": [
  {
   "cell_type": "code",
   "execution_count": 1,
   "id": "53378b64",
   "metadata": {},
   "outputs": [],
   "source": [
    "import pandas as pd"
   ]
  },
  {
   "cell_type": "code",
   "execution_count": 2,
   "id": "3be6778d",
   "metadata": {},
   "outputs": [
    {
     "name": "stdout",
     "output_type": "stream",
     "text": [
      "<class 'pandas.core.frame.DataFrame'>\n",
      "RangeIndex: 176 entries, 0 to 175\n",
      "Data columns (total 1 columns):\n",
      " #   Column  Non-Null Count  Dtype \n",
      "---  ------  --------------  ----- \n",
      " 0   Names   176 non-null    object\n",
      "dtypes: object(1)\n",
      "memory usage: 1.5+ KB\n"
     ]
    }
   ],
   "source": [
    "source = pd.ExcelFile('File Name.xlsx')\n",
    "df = source.parse('Sheet')\n",
    "df.info()"
   ]
  },
  {
   "cell_type": "code",
   "execution_count": 3,
   "id": "615efee5",
   "metadata": {},
   "outputs": [],
   "source": [
    "duplicates = df.duplicated(subset = 'Names', keep = False)"
   ]
  },
  {
   "cell_type": "code",
   "execution_count": 4,
   "id": "edbe5f3d",
   "metadata": {},
   "outputs": [],
   "source": [
    "cleaned_data = df[duplicates]"
   ]
  },
  {
   "cell_type": "code",
   "execution_count": 5,
   "id": "84ff1757",
   "metadata": {},
   "outputs": [],
   "source": [
    "cleaned_data.to_csv('New File Name.csv',index=True)"
   ]
  },
  {
   "cell_type": "code",
   "execution_count": null,
   "id": "86f0419b",
   "metadata": {},
   "outputs": [],
   "source": []
  }
 ],
 "metadata": {
  "kernelspec": {
   "display_name": "Python 3 (ipykernel)",
   "language": "python",
   "name": "python3"
  },
  "language_info": {
   "codemirror_mode": {
    "name": "ipython",
    "version": 3
   },
   "file_extension": ".py",
   "mimetype": "text/x-python",
   "name": "python",
   "nbconvert_exporter": "python",
   "pygments_lexer": "ipython3",
   "version": "3.9.7"
  }
 },
 "nbformat": 4,
 "nbformat_minor": 5
}
